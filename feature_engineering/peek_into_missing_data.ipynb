{
 "cells": [
  {
   "cell_type": "code",
   "execution_count": 48,
   "metadata": {},
   "outputs": [],
   "source": [
    "import pandas as pd"
   ]
  },
  {
   "cell_type": "code",
   "execution_count": 49,
   "metadata": {},
   "outputs": [
    {
     "output_type": "execute_result",
     "data": {
      "text/plain": "   id  bin_0  bin_1  bin_2 bin_3 bin_4  nom_0      nom_1    nom_2    nom_3  \\\n0   0      0      0      0     T     Y  Green   Triangle    Snake  Finland   \n1   1      0      1      0     T     Y  Green  Trapezoid  Hamster   Russia   \n2   2      0      0      0     F     Y   Blue  Trapezoid     Lion   Russia   \n3   3      0      1      0     F     Y    Red  Trapezoid    Snake   Canada   \n4   4      0      0      0     F     N    Red  Trapezoid     Lion   Canada   \n\n   ...      nom_9 ord_0        ord_1        ord_2 ord_3 ord_4  ord_5 day  \\\n0  ...  2f4cb3d51     2  Grandmaster         Cold     h     D     kr   2   \n1  ...  f83c56c21     1  Grandmaster          Hot     a     A     bF   7   \n2  ...  ae6800dd0     1       Expert     Lava Hot     h     R     Jc   7   \n3  ...  8270f0d71     1  Grandmaster  Boiling Hot     i     D     kW   2   \n4  ...  b164b72a7     1  Grandmaster     Freezing     a     R     qP   7   \n\n  month target  \n0     2      0  \n1     8      0  \n2     2      0  \n3     1      1  \n4     8      0  \n\n[5 rows x 25 columns]",
      "text/html": "<div>\n<style scoped>\n    .dataframe tbody tr th:only-of-type {\n        vertical-align: middle;\n    }\n\n    .dataframe tbody tr th {\n        vertical-align: top;\n    }\n\n    .dataframe thead th {\n        text-align: right;\n    }\n</style>\n<table border=\"1\" class=\"dataframe\">\n  <thead>\n    <tr style=\"text-align: right;\">\n      <th></th>\n      <th>id</th>\n      <th>bin_0</th>\n      <th>bin_1</th>\n      <th>bin_2</th>\n      <th>bin_3</th>\n      <th>bin_4</th>\n      <th>nom_0</th>\n      <th>nom_1</th>\n      <th>nom_2</th>\n      <th>nom_3</th>\n      <th>...</th>\n      <th>nom_9</th>\n      <th>ord_0</th>\n      <th>ord_1</th>\n      <th>ord_2</th>\n      <th>ord_3</th>\n      <th>ord_4</th>\n      <th>ord_5</th>\n      <th>day</th>\n      <th>month</th>\n      <th>target</th>\n    </tr>\n  </thead>\n  <tbody>\n    <tr>\n      <th>0</th>\n      <td>0</td>\n      <td>0</td>\n      <td>0</td>\n      <td>0</td>\n      <td>T</td>\n      <td>Y</td>\n      <td>Green</td>\n      <td>Triangle</td>\n      <td>Snake</td>\n      <td>Finland</td>\n      <td>...</td>\n      <td>2f4cb3d51</td>\n      <td>2</td>\n      <td>Grandmaster</td>\n      <td>Cold</td>\n      <td>h</td>\n      <td>D</td>\n      <td>kr</td>\n      <td>2</td>\n      <td>2</td>\n      <td>0</td>\n    </tr>\n    <tr>\n      <th>1</th>\n      <td>1</td>\n      <td>0</td>\n      <td>1</td>\n      <td>0</td>\n      <td>T</td>\n      <td>Y</td>\n      <td>Green</td>\n      <td>Trapezoid</td>\n      <td>Hamster</td>\n      <td>Russia</td>\n      <td>...</td>\n      <td>f83c56c21</td>\n      <td>1</td>\n      <td>Grandmaster</td>\n      <td>Hot</td>\n      <td>a</td>\n      <td>A</td>\n      <td>bF</td>\n      <td>7</td>\n      <td>8</td>\n      <td>0</td>\n    </tr>\n    <tr>\n      <th>2</th>\n      <td>2</td>\n      <td>0</td>\n      <td>0</td>\n      <td>0</td>\n      <td>F</td>\n      <td>Y</td>\n      <td>Blue</td>\n      <td>Trapezoid</td>\n      <td>Lion</td>\n      <td>Russia</td>\n      <td>...</td>\n      <td>ae6800dd0</td>\n      <td>1</td>\n      <td>Expert</td>\n      <td>Lava Hot</td>\n      <td>h</td>\n      <td>R</td>\n      <td>Jc</td>\n      <td>7</td>\n      <td>2</td>\n      <td>0</td>\n    </tr>\n    <tr>\n      <th>3</th>\n      <td>3</td>\n      <td>0</td>\n      <td>1</td>\n      <td>0</td>\n      <td>F</td>\n      <td>Y</td>\n      <td>Red</td>\n      <td>Trapezoid</td>\n      <td>Snake</td>\n      <td>Canada</td>\n      <td>...</td>\n      <td>8270f0d71</td>\n      <td>1</td>\n      <td>Grandmaster</td>\n      <td>Boiling Hot</td>\n      <td>i</td>\n      <td>D</td>\n      <td>kW</td>\n      <td>2</td>\n      <td>1</td>\n      <td>1</td>\n    </tr>\n    <tr>\n      <th>4</th>\n      <td>4</td>\n      <td>0</td>\n      <td>0</td>\n      <td>0</td>\n      <td>F</td>\n      <td>N</td>\n      <td>Red</td>\n      <td>Trapezoid</td>\n      <td>Lion</td>\n      <td>Canada</td>\n      <td>...</td>\n      <td>b164b72a7</td>\n      <td>1</td>\n      <td>Grandmaster</td>\n      <td>Freezing</td>\n      <td>a</td>\n      <td>R</td>\n      <td>qP</td>\n      <td>7</td>\n      <td>8</td>\n      <td>0</td>\n    </tr>\n  </tbody>\n</table>\n<p>5 rows × 25 columns</p>\n</div>"
     },
     "metadata": {},
     "execution_count": 49
    }
   ],
   "source": [
    "# load and peek at data\n",
    "df = pd.read_csv(\"../data/categorical_feature_engineering_raw/train.csv\")\n",
    "df.head()"
   ]
  },
  {
   "cell_type": "code",
   "execution_count": 50,
   "metadata": {},
   "outputs": [
    {
     "output_type": "execute_result",
     "data": {
      "text/plain": "           id  bin_0  bin_1  bin_2  bin_3  bin_4  nom_0  nom_1  nom_2  nom_3  \\\n0       False  False  False  False  False  False  False  False  False  False   \n1       False  False  False  False  False  False  False  False  False  False   \n2       False  False  False  False  False  False  False  False  False  False   \n3       False  False  False  False  False  False  False  False  False  False   \n4       False  False  False  False  False  False  False  False  False  False   \n...       ...    ...    ...    ...    ...    ...    ...    ...    ...    ...   \n299995  False  False  False  False  False  False  False  False  False  False   \n299996  False  False  False  False  False  False  False  False  False  False   \n299997  False  False  False  False  False  False  False  False  False  False   \n299998  False  False  False  False  False  False  False  False  False  False   \n299999  False  False  False  False  False  False  False  False  False  False   \n\n        ...  nom_9  ord_0  ord_1  ord_2  ord_3  ord_4  ord_5    day  month  \\\n0       ...  False  False  False  False  False  False  False  False  False   \n1       ...  False  False  False  False  False  False  False  False  False   \n2       ...  False  False  False  False  False  False  False  False  False   \n3       ...  False  False  False  False  False  False  False  False  False   \n4       ...  False  False  False  False  False  False  False  False  False   \n...     ...    ...    ...    ...    ...    ...    ...    ...    ...    ...   \n299995  ...  False  False  False  False  False  False  False  False  False   \n299996  ...  False  False  False  False  False  False  False  False  False   \n299997  ...  False  False  False  False  False  False  False  False  False   \n299998  ...  False  False  False  False  False  False  False  False  False   \n299999  ...  False  False  False  False  False  False  False  False  False   \n\n        target  \n0        False  \n1        False  \n2        False  \n3        False  \n4        False  \n...        ...  \n299995   False  \n299996   False  \n299997   False  \n299998   False  \n299999   False  \n\n[300000 rows x 25 columns]",
      "text/html": "<div>\n<style scoped>\n    .dataframe tbody tr th:only-of-type {\n        vertical-align: middle;\n    }\n\n    .dataframe tbody tr th {\n        vertical-align: top;\n    }\n\n    .dataframe thead th {\n        text-align: right;\n    }\n</style>\n<table border=\"1\" class=\"dataframe\">\n  <thead>\n    <tr style=\"text-align: right;\">\n      <th></th>\n      <th>id</th>\n      <th>bin_0</th>\n      <th>bin_1</th>\n      <th>bin_2</th>\n      <th>bin_3</th>\n      <th>bin_4</th>\n      <th>nom_0</th>\n      <th>nom_1</th>\n      <th>nom_2</th>\n      <th>nom_3</th>\n      <th>...</th>\n      <th>nom_9</th>\n      <th>ord_0</th>\n      <th>ord_1</th>\n      <th>ord_2</th>\n      <th>ord_3</th>\n      <th>ord_4</th>\n      <th>ord_5</th>\n      <th>day</th>\n      <th>month</th>\n      <th>target</th>\n    </tr>\n  </thead>\n  <tbody>\n    <tr>\n      <th>0</th>\n      <td>False</td>\n      <td>False</td>\n      <td>False</td>\n      <td>False</td>\n      <td>False</td>\n      <td>False</td>\n      <td>False</td>\n      <td>False</td>\n      <td>False</td>\n      <td>False</td>\n      <td>...</td>\n      <td>False</td>\n      <td>False</td>\n      <td>False</td>\n      <td>False</td>\n      <td>False</td>\n      <td>False</td>\n      <td>False</td>\n      <td>False</td>\n      <td>False</td>\n      <td>False</td>\n    </tr>\n    <tr>\n      <th>1</th>\n      <td>False</td>\n      <td>False</td>\n      <td>False</td>\n      <td>False</td>\n      <td>False</td>\n      <td>False</td>\n      <td>False</td>\n      <td>False</td>\n      <td>False</td>\n      <td>False</td>\n      <td>...</td>\n      <td>False</td>\n      <td>False</td>\n      <td>False</td>\n      <td>False</td>\n      <td>False</td>\n      <td>False</td>\n      <td>False</td>\n      <td>False</td>\n      <td>False</td>\n      <td>False</td>\n    </tr>\n    <tr>\n      <th>2</th>\n      <td>False</td>\n      <td>False</td>\n      <td>False</td>\n      <td>False</td>\n      <td>False</td>\n      <td>False</td>\n      <td>False</td>\n      <td>False</td>\n      <td>False</td>\n      <td>False</td>\n      <td>...</td>\n      <td>False</td>\n      <td>False</td>\n      <td>False</td>\n      <td>False</td>\n      <td>False</td>\n      <td>False</td>\n      <td>False</td>\n      <td>False</td>\n      <td>False</td>\n      <td>False</td>\n    </tr>\n    <tr>\n      <th>3</th>\n      <td>False</td>\n      <td>False</td>\n      <td>False</td>\n      <td>False</td>\n      <td>False</td>\n      <td>False</td>\n      <td>False</td>\n      <td>False</td>\n      <td>False</td>\n      <td>False</td>\n      <td>...</td>\n      <td>False</td>\n      <td>False</td>\n      <td>False</td>\n      <td>False</td>\n      <td>False</td>\n      <td>False</td>\n      <td>False</td>\n      <td>False</td>\n      <td>False</td>\n      <td>False</td>\n    </tr>\n    <tr>\n      <th>4</th>\n      <td>False</td>\n      <td>False</td>\n      <td>False</td>\n      <td>False</td>\n      <td>False</td>\n      <td>False</td>\n      <td>False</td>\n      <td>False</td>\n      <td>False</td>\n      <td>False</td>\n      <td>...</td>\n      <td>False</td>\n      <td>False</td>\n      <td>False</td>\n      <td>False</td>\n      <td>False</td>\n      <td>False</td>\n      <td>False</td>\n      <td>False</td>\n      <td>False</td>\n      <td>False</td>\n    </tr>\n    <tr>\n      <th>...</th>\n      <td>...</td>\n      <td>...</td>\n      <td>...</td>\n      <td>...</td>\n      <td>...</td>\n      <td>...</td>\n      <td>...</td>\n      <td>...</td>\n      <td>...</td>\n      <td>...</td>\n      <td>...</td>\n      <td>...</td>\n      <td>...</td>\n      <td>...</td>\n      <td>...</td>\n      <td>...</td>\n      <td>...</td>\n      <td>...</td>\n      <td>...</td>\n      <td>...</td>\n      <td>...</td>\n    </tr>\n    <tr>\n      <th>299995</th>\n      <td>False</td>\n      <td>False</td>\n      <td>False</td>\n      <td>False</td>\n      <td>False</td>\n      <td>False</td>\n      <td>False</td>\n      <td>False</td>\n      <td>False</td>\n      <td>False</td>\n      <td>...</td>\n      <td>False</td>\n      <td>False</td>\n      <td>False</td>\n      <td>False</td>\n      <td>False</td>\n      <td>False</td>\n      <td>False</td>\n      <td>False</td>\n      <td>False</td>\n      <td>False</td>\n    </tr>\n    <tr>\n      <th>299996</th>\n      <td>False</td>\n      <td>False</td>\n      <td>False</td>\n      <td>False</td>\n      <td>False</td>\n      <td>False</td>\n      <td>False</td>\n      <td>False</td>\n      <td>False</td>\n      <td>False</td>\n      <td>...</td>\n      <td>False</td>\n      <td>False</td>\n      <td>False</td>\n      <td>False</td>\n      <td>False</td>\n      <td>False</td>\n      <td>False</td>\n      <td>False</td>\n      <td>False</td>\n      <td>False</td>\n    </tr>\n    <tr>\n      <th>299997</th>\n      <td>False</td>\n      <td>False</td>\n      <td>False</td>\n      <td>False</td>\n      <td>False</td>\n      <td>False</td>\n      <td>False</td>\n      <td>False</td>\n      <td>False</td>\n      <td>False</td>\n      <td>...</td>\n      <td>False</td>\n      <td>False</td>\n      <td>False</td>\n      <td>False</td>\n      <td>False</td>\n      <td>False</td>\n      <td>False</td>\n      <td>False</td>\n      <td>False</td>\n      <td>False</td>\n    </tr>\n    <tr>\n      <th>299998</th>\n      <td>False</td>\n      <td>False</td>\n      <td>False</td>\n      <td>False</td>\n      <td>False</td>\n      <td>False</td>\n      <td>False</td>\n      <td>False</td>\n      <td>False</td>\n      <td>False</td>\n      <td>...</td>\n      <td>False</td>\n      <td>False</td>\n      <td>False</td>\n      <td>False</td>\n      <td>False</td>\n      <td>False</td>\n      <td>False</td>\n      <td>False</td>\n      <td>False</td>\n      <td>False</td>\n    </tr>\n    <tr>\n      <th>299999</th>\n      <td>False</td>\n      <td>False</td>\n      <td>False</td>\n      <td>False</td>\n      <td>False</td>\n      <td>False</td>\n      <td>False</td>\n      <td>False</td>\n      <td>False</td>\n      <td>False</td>\n      <td>...</td>\n      <td>False</td>\n      <td>False</td>\n      <td>False</td>\n      <td>False</td>\n      <td>False</td>\n      <td>False</td>\n      <td>False</td>\n      <td>False</td>\n      <td>False</td>\n      <td>False</td>\n    </tr>\n  </tbody>\n</table>\n<p>300000 rows × 25 columns</p>\n</div>"
     },
     "metadata": {},
     "execution_count": 50
    }
   ],
   "source": [
    "# see what .isna() returns\n",
    "df.isna()"
   ]
  },
  {
   "cell_type": "code",
   "execution_count": 51,
   "metadata": {},
   "outputs": [
    {
     "output_type": "execute_result",
     "data": {
      "text/plain": "           id  bin_0  bin_1  bin_2  bin_3  bin_4  nom_0  nom_1  nom_2  nom_3  \\\n0       False  False  False  False  False  False  False  False  False  False   \n1       False  False  False  False  False  False  False  False  False  False   \n2       False  False  False  False  False  False  False  False  False  False   \n3       False  False  False  False  False  False  False  False  False  False   \n4       False  False  False  False  False  False  False  False  False  False   \n...       ...    ...    ...    ...    ...    ...    ...    ...    ...    ...   \n299995  False  False  False  False  False  False  False  False  False  False   \n299996  False  False  False  False  False  False  False  False  False  False   \n299997  False  False  False  False  False  False  False  False  False  False   \n299998  False  False  False  False  False  False  False  False  False  False   \n299999  False  False  False  False  False  False  False  False  False  False   \n\n        ...  nom_9  ord_0  ord_1  ord_2  ord_3  ord_4  ord_5    day  month  \\\n0       ...  False  False  False  False  False  False  False  False  False   \n1       ...  False  False  False  False  False  False  False  False  False   \n2       ...  False  False  False  False  False  False  False  False  False   \n3       ...  False  False  False  False  False  False  False  False  False   \n4       ...  False  False  False  False  False  False  False  False  False   \n...     ...    ...    ...    ...    ...    ...    ...    ...    ...    ...   \n299995  ...  False  False  False  False  False  False  False  False  False   \n299996  ...  False  False  False  False  False  False  False  False  False   \n299997  ...  False  False  False  False  False  False  False  False  False   \n299998  ...  False  False  False  False  False  False  False  False  False   \n299999  ...  False  False  False  False  False  False  False  False  False   \n\n        target  \n0        False  \n1        False  \n2        False  \n3        False  \n4        False  \n...        ...  \n299995   False  \n299996   False  \n299997   False  \n299998   False  \n299999   False  \n\n[300000 rows x 25 columns]",
      "text/html": "<div>\n<style scoped>\n    .dataframe tbody tr th:only-of-type {\n        vertical-align: middle;\n    }\n\n    .dataframe tbody tr th {\n        vertical-align: top;\n    }\n\n    .dataframe thead th {\n        text-align: right;\n    }\n</style>\n<table border=\"1\" class=\"dataframe\">\n  <thead>\n    <tr style=\"text-align: right;\">\n      <th></th>\n      <th>id</th>\n      <th>bin_0</th>\n      <th>bin_1</th>\n      <th>bin_2</th>\n      <th>bin_3</th>\n      <th>bin_4</th>\n      <th>nom_0</th>\n      <th>nom_1</th>\n      <th>nom_2</th>\n      <th>nom_3</th>\n      <th>...</th>\n      <th>nom_9</th>\n      <th>ord_0</th>\n      <th>ord_1</th>\n      <th>ord_2</th>\n      <th>ord_3</th>\n      <th>ord_4</th>\n      <th>ord_5</th>\n      <th>day</th>\n      <th>month</th>\n      <th>target</th>\n    </tr>\n  </thead>\n  <tbody>\n    <tr>\n      <th>0</th>\n      <td>False</td>\n      <td>False</td>\n      <td>False</td>\n      <td>False</td>\n      <td>False</td>\n      <td>False</td>\n      <td>False</td>\n      <td>False</td>\n      <td>False</td>\n      <td>False</td>\n      <td>...</td>\n      <td>False</td>\n      <td>False</td>\n      <td>False</td>\n      <td>False</td>\n      <td>False</td>\n      <td>False</td>\n      <td>False</td>\n      <td>False</td>\n      <td>False</td>\n      <td>False</td>\n    </tr>\n    <tr>\n      <th>1</th>\n      <td>False</td>\n      <td>False</td>\n      <td>False</td>\n      <td>False</td>\n      <td>False</td>\n      <td>False</td>\n      <td>False</td>\n      <td>False</td>\n      <td>False</td>\n      <td>False</td>\n      <td>...</td>\n      <td>False</td>\n      <td>False</td>\n      <td>False</td>\n      <td>False</td>\n      <td>False</td>\n      <td>False</td>\n      <td>False</td>\n      <td>False</td>\n      <td>False</td>\n      <td>False</td>\n    </tr>\n    <tr>\n      <th>2</th>\n      <td>False</td>\n      <td>False</td>\n      <td>False</td>\n      <td>False</td>\n      <td>False</td>\n      <td>False</td>\n      <td>False</td>\n      <td>False</td>\n      <td>False</td>\n      <td>False</td>\n      <td>...</td>\n      <td>False</td>\n      <td>False</td>\n      <td>False</td>\n      <td>False</td>\n      <td>False</td>\n      <td>False</td>\n      <td>False</td>\n      <td>False</td>\n      <td>False</td>\n      <td>False</td>\n    </tr>\n    <tr>\n      <th>3</th>\n      <td>False</td>\n      <td>False</td>\n      <td>False</td>\n      <td>False</td>\n      <td>False</td>\n      <td>False</td>\n      <td>False</td>\n      <td>False</td>\n      <td>False</td>\n      <td>False</td>\n      <td>...</td>\n      <td>False</td>\n      <td>False</td>\n      <td>False</td>\n      <td>False</td>\n      <td>False</td>\n      <td>False</td>\n      <td>False</td>\n      <td>False</td>\n      <td>False</td>\n      <td>False</td>\n    </tr>\n    <tr>\n      <th>4</th>\n      <td>False</td>\n      <td>False</td>\n      <td>False</td>\n      <td>False</td>\n      <td>False</td>\n      <td>False</td>\n      <td>False</td>\n      <td>False</td>\n      <td>False</td>\n      <td>False</td>\n      <td>...</td>\n      <td>False</td>\n      <td>False</td>\n      <td>False</td>\n      <td>False</td>\n      <td>False</td>\n      <td>False</td>\n      <td>False</td>\n      <td>False</td>\n      <td>False</td>\n      <td>False</td>\n    </tr>\n    <tr>\n      <th>...</th>\n      <td>...</td>\n      <td>...</td>\n      <td>...</td>\n      <td>...</td>\n      <td>...</td>\n      <td>...</td>\n      <td>...</td>\n      <td>...</td>\n      <td>...</td>\n      <td>...</td>\n      <td>...</td>\n      <td>...</td>\n      <td>...</td>\n      <td>...</td>\n      <td>...</td>\n      <td>...</td>\n      <td>...</td>\n      <td>...</td>\n      <td>...</td>\n      <td>...</td>\n      <td>...</td>\n    </tr>\n    <tr>\n      <th>299995</th>\n      <td>False</td>\n      <td>False</td>\n      <td>False</td>\n      <td>False</td>\n      <td>False</td>\n      <td>False</td>\n      <td>False</td>\n      <td>False</td>\n      <td>False</td>\n      <td>False</td>\n      <td>...</td>\n      <td>False</td>\n      <td>False</td>\n      <td>False</td>\n      <td>False</td>\n      <td>False</td>\n      <td>False</td>\n      <td>False</td>\n      <td>False</td>\n      <td>False</td>\n      <td>False</td>\n    </tr>\n    <tr>\n      <th>299996</th>\n      <td>False</td>\n      <td>False</td>\n      <td>False</td>\n      <td>False</td>\n      <td>False</td>\n      <td>False</td>\n      <td>False</td>\n      <td>False</td>\n      <td>False</td>\n      <td>False</td>\n      <td>...</td>\n      <td>False</td>\n      <td>False</td>\n      <td>False</td>\n      <td>False</td>\n      <td>False</td>\n      <td>False</td>\n      <td>False</td>\n      <td>False</td>\n      <td>False</td>\n      <td>False</td>\n    </tr>\n    <tr>\n      <th>299997</th>\n      <td>False</td>\n      <td>False</td>\n      <td>False</td>\n      <td>False</td>\n      <td>False</td>\n      <td>False</td>\n      <td>False</td>\n      <td>False</td>\n      <td>False</td>\n      <td>False</td>\n      <td>...</td>\n      <td>False</td>\n      <td>False</td>\n      <td>False</td>\n      <td>False</td>\n      <td>False</td>\n      <td>False</td>\n      <td>False</td>\n      <td>False</td>\n      <td>False</td>\n      <td>False</td>\n    </tr>\n    <tr>\n      <th>299998</th>\n      <td>False</td>\n      <td>False</td>\n      <td>False</td>\n      <td>False</td>\n      <td>False</td>\n      <td>False</td>\n      <td>False</td>\n      <td>False</td>\n      <td>False</td>\n      <td>False</td>\n      <td>...</td>\n      <td>False</td>\n      <td>False</td>\n      <td>False</td>\n      <td>False</td>\n      <td>False</td>\n      <td>False</td>\n      <td>False</td>\n      <td>False</td>\n      <td>False</td>\n      <td>False</td>\n    </tr>\n    <tr>\n      <th>299999</th>\n      <td>False</td>\n      <td>False</td>\n      <td>False</td>\n      <td>False</td>\n      <td>False</td>\n      <td>False</td>\n      <td>False</td>\n      <td>False</td>\n      <td>False</td>\n      <td>False</td>\n      <td>...</td>\n      <td>False</td>\n      <td>False</td>\n      <td>False</td>\n      <td>False</td>\n      <td>False</td>\n      <td>False</td>\n      <td>False</td>\n      <td>False</td>\n      <td>False</td>\n      <td>False</td>\n    </tr>\n  </tbody>\n</table>\n<p>300000 rows × 25 columns</p>\n</div>"
     },
     "metadata": {},
     "execution_count": 51
    }
   ],
   "source": [
    "pd.isna(df)"
   ]
  },
  {
   "cell_type": "code",
   "execution_count": 52,
   "metadata": {},
   "outputs": [
    {
     "output_type": "execute_result",
     "data": {
      "text/plain": "          id  bin_0  bin_1  bin_2  bin_3  bin_4  nom_0  nom_1  nom_2  nom_3  \\\n0       True   True   True   True   True   True   True   True   True   True   \n1       True   True   True   True   True   True   True   True   True   True   \n2       True   True   True   True   True   True   True   True   True   True   \n3       True   True   True   True   True   True   True   True   True   True   \n4       True   True   True   True   True   True   True   True   True   True   \n...      ...    ...    ...    ...    ...    ...    ...    ...    ...    ...   \n299995  True   True   True   True   True   True   True   True   True   True   \n299996  True   True   True   True   True   True   True   True   True   True   \n299997  True   True   True   True   True   True   True   True   True   True   \n299998  True   True   True   True   True   True   True   True   True   True   \n299999  True   True   True   True   True   True   True   True   True   True   \n\n        ...  nom_9  ord_0  ord_1  ord_2  ord_3  ord_4  ord_5   day  month  \\\n0       ...   True   True   True   True   True   True   True  True   True   \n1       ...   True   True   True   True   True   True   True  True   True   \n2       ...   True   True   True   True   True   True   True  True   True   \n3       ...   True   True   True   True   True   True   True  True   True   \n4       ...   True   True   True   True   True   True   True  True   True   \n...     ...    ...    ...    ...    ...    ...    ...    ...   ...    ...   \n299995  ...   True   True   True   True   True   True   True  True   True   \n299996  ...   True   True   True   True   True   True   True  True   True   \n299997  ...   True   True   True   True   True   True   True  True   True   \n299998  ...   True   True   True   True   True   True   True  True   True   \n299999  ...   True   True   True   True   True   True   True  True   True   \n\n        target  \n0         True  \n1         True  \n2         True  \n3         True  \n4         True  \n...        ...  \n299995    True  \n299996    True  \n299997    True  \n299998    True  \n299999    True  \n\n[300000 rows x 25 columns]",
      "text/html": "<div>\n<style scoped>\n    .dataframe tbody tr th:only-of-type {\n        vertical-align: middle;\n    }\n\n    .dataframe tbody tr th {\n        vertical-align: top;\n    }\n\n    .dataframe thead th {\n        text-align: right;\n    }\n</style>\n<table border=\"1\" class=\"dataframe\">\n  <thead>\n    <tr style=\"text-align: right;\">\n      <th></th>\n      <th>id</th>\n      <th>bin_0</th>\n      <th>bin_1</th>\n      <th>bin_2</th>\n      <th>bin_3</th>\n      <th>bin_4</th>\n      <th>nom_0</th>\n      <th>nom_1</th>\n      <th>nom_2</th>\n      <th>nom_3</th>\n      <th>...</th>\n      <th>nom_9</th>\n      <th>ord_0</th>\n      <th>ord_1</th>\n      <th>ord_2</th>\n      <th>ord_3</th>\n      <th>ord_4</th>\n      <th>ord_5</th>\n      <th>day</th>\n      <th>month</th>\n      <th>target</th>\n    </tr>\n  </thead>\n  <tbody>\n    <tr>\n      <th>0</th>\n      <td>True</td>\n      <td>True</td>\n      <td>True</td>\n      <td>True</td>\n      <td>True</td>\n      <td>True</td>\n      <td>True</td>\n      <td>True</td>\n      <td>True</td>\n      <td>True</td>\n      <td>...</td>\n      <td>True</td>\n      <td>True</td>\n      <td>True</td>\n      <td>True</td>\n      <td>True</td>\n      <td>True</td>\n      <td>True</td>\n      <td>True</td>\n      <td>True</td>\n      <td>True</td>\n    </tr>\n    <tr>\n      <th>1</th>\n      <td>True</td>\n      <td>True</td>\n      <td>True</td>\n      <td>True</td>\n      <td>True</td>\n      <td>True</td>\n      <td>True</td>\n      <td>True</td>\n      <td>True</td>\n      <td>True</td>\n      <td>...</td>\n      <td>True</td>\n      <td>True</td>\n      <td>True</td>\n      <td>True</td>\n      <td>True</td>\n      <td>True</td>\n      <td>True</td>\n      <td>True</td>\n      <td>True</td>\n      <td>True</td>\n    </tr>\n    <tr>\n      <th>2</th>\n      <td>True</td>\n      <td>True</td>\n      <td>True</td>\n      <td>True</td>\n      <td>True</td>\n      <td>True</td>\n      <td>True</td>\n      <td>True</td>\n      <td>True</td>\n      <td>True</td>\n      <td>...</td>\n      <td>True</td>\n      <td>True</td>\n      <td>True</td>\n      <td>True</td>\n      <td>True</td>\n      <td>True</td>\n      <td>True</td>\n      <td>True</td>\n      <td>True</td>\n      <td>True</td>\n    </tr>\n    <tr>\n      <th>3</th>\n      <td>True</td>\n      <td>True</td>\n      <td>True</td>\n      <td>True</td>\n      <td>True</td>\n      <td>True</td>\n      <td>True</td>\n      <td>True</td>\n      <td>True</td>\n      <td>True</td>\n      <td>...</td>\n      <td>True</td>\n      <td>True</td>\n      <td>True</td>\n      <td>True</td>\n      <td>True</td>\n      <td>True</td>\n      <td>True</td>\n      <td>True</td>\n      <td>True</td>\n      <td>True</td>\n    </tr>\n    <tr>\n      <th>4</th>\n      <td>True</td>\n      <td>True</td>\n      <td>True</td>\n      <td>True</td>\n      <td>True</td>\n      <td>True</td>\n      <td>True</td>\n      <td>True</td>\n      <td>True</td>\n      <td>True</td>\n      <td>...</td>\n      <td>True</td>\n      <td>True</td>\n      <td>True</td>\n      <td>True</td>\n      <td>True</td>\n      <td>True</td>\n      <td>True</td>\n      <td>True</td>\n      <td>True</td>\n      <td>True</td>\n    </tr>\n    <tr>\n      <th>...</th>\n      <td>...</td>\n      <td>...</td>\n      <td>...</td>\n      <td>...</td>\n      <td>...</td>\n      <td>...</td>\n      <td>...</td>\n      <td>...</td>\n      <td>...</td>\n      <td>...</td>\n      <td>...</td>\n      <td>...</td>\n      <td>...</td>\n      <td>...</td>\n      <td>...</td>\n      <td>...</td>\n      <td>...</td>\n      <td>...</td>\n      <td>...</td>\n      <td>...</td>\n      <td>...</td>\n    </tr>\n    <tr>\n      <th>299995</th>\n      <td>True</td>\n      <td>True</td>\n      <td>True</td>\n      <td>True</td>\n      <td>True</td>\n      <td>True</td>\n      <td>True</td>\n      <td>True</td>\n      <td>True</td>\n      <td>True</td>\n      <td>...</td>\n      <td>True</td>\n      <td>True</td>\n      <td>True</td>\n      <td>True</td>\n      <td>True</td>\n      <td>True</td>\n      <td>True</td>\n      <td>True</td>\n      <td>True</td>\n      <td>True</td>\n    </tr>\n    <tr>\n      <th>299996</th>\n      <td>True</td>\n      <td>True</td>\n      <td>True</td>\n      <td>True</td>\n      <td>True</td>\n      <td>True</td>\n      <td>True</td>\n      <td>True</td>\n      <td>True</td>\n      <td>True</td>\n      <td>...</td>\n      <td>True</td>\n      <td>True</td>\n      <td>True</td>\n      <td>True</td>\n      <td>True</td>\n      <td>True</td>\n      <td>True</td>\n      <td>True</td>\n      <td>True</td>\n      <td>True</td>\n    </tr>\n    <tr>\n      <th>299997</th>\n      <td>True</td>\n      <td>True</td>\n      <td>True</td>\n      <td>True</td>\n      <td>True</td>\n      <td>True</td>\n      <td>True</td>\n      <td>True</td>\n      <td>True</td>\n      <td>True</td>\n      <td>...</td>\n      <td>True</td>\n      <td>True</td>\n      <td>True</td>\n      <td>True</td>\n      <td>True</td>\n      <td>True</td>\n      <td>True</td>\n      <td>True</td>\n      <td>True</td>\n      <td>True</td>\n    </tr>\n    <tr>\n      <th>299998</th>\n      <td>True</td>\n      <td>True</td>\n      <td>True</td>\n      <td>True</td>\n      <td>True</td>\n      <td>True</td>\n      <td>True</td>\n      <td>True</td>\n      <td>True</td>\n      <td>True</td>\n      <td>...</td>\n      <td>True</td>\n      <td>True</td>\n      <td>True</td>\n      <td>True</td>\n      <td>True</td>\n      <td>True</td>\n      <td>True</td>\n      <td>True</td>\n      <td>True</td>\n      <td>True</td>\n    </tr>\n    <tr>\n      <th>299999</th>\n      <td>True</td>\n      <td>True</td>\n      <td>True</td>\n      <td>True</td>\n      <td>True</td>\n      <td>True</td>\n      <td>True</td>\n      <td>True</td>\n      <td>True</td>\n      <td>True</td>\n      <td>...</td>\n      <td>True</td>\n      <td>True</td>\n      <td>True</td>\n      <td>True</td>\n      <td>True</td>\n      <td>True</td>\n      <td>True</td>\n      <td>True</td>\n      <td>True</td>\n      <td>True</td>\n    </tr>\n  </tbody>\n</table>\n<p>300000 rows × 25 columns</p>\n</div>"
     },
     "metadata": {},
     "execution_count": 52
    }
   ],
   "source": [
    "# see what .notna() returns\n",
    "df.notna()"
   ]
  },
  {
   "cell_type": "code",
   "execution_count": 53,
   "metadata": {},
   "outputs": [
    {
     "output_type": "execute_result",
     "data": {
      "text/plain": "id        0\nbin_0     0\nbin_1     0\nbin_2     0\nbin_3     0\nbin_4     0\nnom_0     0\nnom_1     0\nnom_2     0\nnom_3     0\nnom_4     0\nnom_5     0\nnom_6     0\nnom_7     0\nnom_8     0\nnom_9     0\nord_0     0\nord_1     0\nord_2     0\nord_3     0\nord_4     0\nord_5     0\nday       0\nmonth     0\ntarget    0\ndtype: int64"
     },
     "metadata": {},
     "execution_count": 53
    }
   ],
   "source": [
    "df.isna().sum()"
   ]
  },
  {
   "cell_type": "code",
   "execution_count": 54,
   "metadata": {},
   "outputs": [],
   "source": [
    "# inputting NaN's randomly into data\n",
    "df.loc[2:1000:100, [\"bin_0\"]] = None\n",
    "df.loc[:300:20, [\"ord_4\", \"ord_5\"]] = None \n",
    "df.loc[500::50, [\"nom_4\", \"bin_4\"]] = None"
   ]
  },
  {
   "cell_type": "code",
   "execution_count": 55,
   "metadata": {},
   "outputs": [
    {
     "output_type": "execute_result",
     "data": {
      "text/plain": "id           0\nbin_0       10\nbin_1        0\nbin_2        0\nbin_3        0\nbin_4     5990\nnom_0        0\nnom_1        0\nnom_2        0\nnom_3        0\nnom_4     5990\nnom_5        0\nnom_6        0\nnom_7        0\nnom_8        0\nnom_9        0\nord_0        0\nord_1        0\nord_2        0\nord_3        0\nord_4       16\nord_5       16\nday          0\nmonth        0\ntarget       0\ndtype: int64"
     },
     "metadata": {},
     "execution_count": 55
    }
   ],
   "source": [
    "# checking sum \n",
    "df.isna().sum()"
   ]
  },
  {
   "cell_type": "code",
   "execution_count": 56,
   "metadata": {},
   "outputs": [
    {
     "output_type": "execute_result",
     "data": {
      "text/plain": "id        300000\nbin_0     299990\nbin_1     300000\nbin_2     300000\nbin_3     300000\nbin_4     294010\nnom_0     300000\nnom_1     300000\nnom_2     300000\nnom_3     300000\nnom_4     294010\nnom_5     300000\nnom_6     300000\nnom_7     300000\nnom_8     300000\nnom_9     300000\nord_0     300000\nord_1     300000\nord_2     300000\nord_3     300000\nord_4     299984\nord_5     299984\nday       300000\nmonth     300000\ntarget    300000\ndtype: int64"
     },
     "metadata": {},
     "execution_count": 56
    }
   ],
   "source": [
    "# how man non-null values? \n",
    "df.notna().sum()"
   ]
  },
  {
   "cell_type": "code",
   "execution_count": 57,
   "metadata": {},
   "outputs": [
    {
     "output_type": "execute_result",
     "data": {
      "text/plain": "            id  bin_0  bin_1  bin_2 bin_3 bin_4  nom_0     nom_1    nom_2  \\\n500        500    0.0      1      0     F  None  Green  Triangle  Hamster   \n550        550    0.0      0      0     T  None  Green  Triangle     Lion   \n600        600    0.0      0      1     T  None  Green    Square    Snake   \n650        650    0.0      0      0     F  None  Green   Polygon     Lion   \n700        700    0.0      0      0     F  None    Red    Square      Dog   \n...        ...    ...    ...    ...   ...   ...    ...       ...      ...   \n299750  299750    0.0      0      1     T  None   Blue    Circle    Snake   \n299800  299800    0.0      0      0     T  None  Green      Star      Cat   \n299850  299850    1.0      0      0     T  None  Green    Circle     Lion   \n299900  299900    0.0      0      0     T  None  Green  Triangle     Lion   \n299950  299950    0.0      0      1     T  None  Green  Triangle  Hamster   \n\n             nom_3  ...      nom_9 ord_0        ord_1        ord_2 ord_3  \\\n500     Costa Rica  ...  59add3990     1       Novice     Lava Hot     g   \n550          China  ...  a03cc8c1f     1  Contributor  Boiling Hot     i   \n600         Russia  ...  23b7bea04     1       Novice  Boiling Hot     c   \n650         Canada  ...  e1084bbbc     1  Grandmaster         Cold     j   \n700         Russia  ...  57b41cf49     1       Expert     Freezing     l   \n...            ...  ...        ...   ...          ...          ...   ...   \n299750      Russia  ...  ec3116ee6     1       Novice  Boiling Hot     b   \n299800      Russia  ...  7a57918a5     1  Contributor         Cold     i   \n299850      Russia  ...  b91b5a8ad     1  Grandmaster     Lava Hot     o   \n299900      Canada  ...  d933993b5     2       Novice         Warm     l   \n299950  Costa Rica  ...  84627bdcf     1  Grandmaster  Boiling Hot     e   \n\n       ord_4  ord_5 day month target  \n500        T     lF   1    11      1  \n550        L     nX   5     3      1  \n600        R     Zq   1     7      0  \n650        X     uS   4     7      1  \n700        T     vK   3     1      0  \n...      ...    ...  ..   ...    ...  \n299750     I     kW   4     7      0  \n299800     W     eb   5     9      0  \n299850     H     ex   2     1      0  \n299900     V     kC   7    10      1  \n299950     Y     Xi   4     8      1  \n\n[5990 rows x 25 columns]",
      "text/html": "<div>\n<style scoped>\n    .dataframe tbody tr th:only-of-type {\n        vertical-align: middle;\n    }\n\n    .dataframe tbody tr th {\n        vertical-align: top;\n    }\n\n    .dataframe thead th {\n        text-align: right;\n    }\n</style>\n<table border=\"1\" class=\"dataframe\">\n  <thead>\n    <tr style=\"text-align: right;\">\n      <th></th>\n      <th>id</th>\n      <th>bin_0</th>\n      <th>bin_1</th>\n      <th>bin_2</th>\n      <th>bin_3</th>\n      <th>bin_4</th>\n      <th>nom_0</th>\n      <th>nom_1</th>\n      <th>nom_2</th>\n      <th>nom_3</th>\n      <th>...</th>\n      <th>nom_9</th>\n      <th>ord_0</th>\n      <th>ord_1</th>\n      <th>ord_2</th>\n      <th>ord_3</th>\n      <th>ord_4</th>\n      <th>ord_5</th>\n      <th>day</th>\n      <th>month</th>\n      <th>target</th>\n    </tr>\n  </thead>\n  <tbody>\n    <tr>\n      <th>500</th>\n      <td>500</td>\n      <td>0.0</td>\n      <td>1</td>\n      <td>0</td>\n      <td>F</td>\n      <td>None</td>\n      <td>Green</td>\n      <td>Triangle</td>\n      <td>Hamster</td>\n      <td>Costa Rica</td>\n      <td>...</td>\n      <td>59add3990</td>\n      <td>1</td>\n      <td>Novice</td>\n      <td>Lava Hot</td>\n      <td>g</td>\n      <td>T</td>\n      <td>lF</td>\n      <td>1</td>\n      <td>11</td>\n      <td>1</td>\n    </tr>\n    <tr>\n      <th>550</th>\n      <td>550</td>\n      <td>0.0</td>\n      <td>0</td>\n      <td>0</td>\n      <td>T</td>\n      <td>None</td>\n      <td>Green</td>\n      <td>Triangle</td>\n      <td>Lion</td>\n      <td>China</td>\n      <td>...</td>\n      <td>a03cc8c1f</td>\n      <td>1</td>\n      <td>Contributor</td>\n      <td>Boiling Hot</td>\n      <td>i</td>\n      <td>L</td>\n      <td>nX</td>\n      <td>5</td>\n      <td>3</td>\n      <td>1</td>\n    </tr>\n    <tr>\n      <th>600</th>\n      <td>600</td>\n      <td>0.0</td>\n      <td>0</td>\n      <td>1</td>\n      <td>T</td>\n      <td>None</td>\n      <td>Green</td>\n      <td>Square</td>\n      <td>Snake</td>\n      <td>Russia</td>\n      <td>...</td>\n      <td>23b7bea04</td>\n      <td>1</td>\n      <td>Novice</td>\n      <td>Boiling Hot</td>\n      <td>c</td>\n      <td>R</td>\n      <td>Zq</td>\n      <td>1</td>\n      <td>7</td>\n      <td>0</td>\n    </tr>\n    <tr>\n      <th>650</th>\n      <td>650</td>\n      <td>0.0</td>\n      <td>0</td>\n      <td>0</td>\n      <td>F</td>\n      <td>None</td>\n      <td>Green</td>\n      <td>Polygon</td>\n      <td>Lion</td>\n      <td>Canada</td>\n      <td>...</td>\n      <td>e1084bbbc</td>\n      <td>1</td>\n      <td>Grandmaster</td>\n      <td>Cold</td>\n      <td>j</td>\n      <td>X</td>\n      <td>uS</td>\n      <td>4</td>\n      <td>7</td>\n      <td>1</td>\n    </tr>\n    <tr>\n      <th>700</th>\n      <td>700</td>\n      <td>0.0</td>\n      <td>0</td>\n      <td>0</td>\n      <td>F</td>\n      <td>None</td>\n      <td>Red</td>\n      <td>Square</td>\n      <td>Dog</td>\n      <td>Russia</td>\n      <td>...</td>\n      <td>57b41cf49</td>\n      <td>1</td>\n      <td>Expert</td>\n      <td>Freezing</td>\n      <td>l</td>\n      <td>T</td>\n      <td>vK</td>\n      <td>3</td>\n      <td>1</td>\n      <td>0</td>\n    </tr>\n    <tr>\n      <th>...</th>\n      <td>...</td>\n      <td>...</td>\n      <td>...</td>\n      <td>...</td>\n      <td>...</td>\n      <td>...</td>\n      <td>...</td>\n      <td>...</td>\n      <td>...</td>\n      <td>...</td>\n      <td>...</td>\n      <td>...</td>\n      <td>...</td>\n      <td>...</td>\n      <td>...</td>\n      <td>...</td>\n      <td>...</td>\n      <td>...</td>\n      <td>...</td>\n      <td>...</td>\n      <td>...</td>\n    </tr>\n    <tr>\n      <th>299750</th>\n      <td>299750</td>\n      <td>0.0</td>\n      <td>0</td>\n      <td>1</td>\n      <td>T</td>\n      <td>None</td>\n      <td>Blue</td>\n      <td>Circle</td>\n      <td>Snake</td>\n      <td>Russia</td>\n      <td>...</td>\n      <td>ec3116ee6</td>\n      <td>1</td>\n      <td>Novice</td>\n      <td>Boiling Hot</td>\n      <td>b</td>\n      <td>I</td>\n      <td>kW</td>\n      <td>4</td>\n      <td>7</td>\n      <td>0</td>\n    </tr>\n    <tr>\n      <th>299800</th>\n      <td>299800</td>\n      <td>0.0</td>\n      <td>0</td>\n      <td>0</td>\n      <td>T</td>\n      <td>None</td>\n      <td>Green</td>\n      <td>Star</td>\n      <td>Cat</td>\n      <td>Russia</td>\n      <td>...</td>\n      <td>7a57918a5</td>\n      <td>1</td>\n      <td>Contributor</td>\n      <td>Cold</td>\n      <td>i</td>\n      <td>W</td>\n      <td>eb</td>\n      <td>5</td>\n      <td>9</td>\n      <td>0</td>\n    </tr>\n    <tr>\n      <th>299850</th>\n      <td>299850</td>\n      <td>1.0</td>\n      <td>0</td>\n      <td>0</td>\n      <td>T</td>\n      <td>None</td>\n      <td>Green</td>\n      <td>Circle</td>\n      <td>Lion</td>\n      <td>Russia</td>\n      <td>...</td>\n      <td>b91b5a8ad</td>\n      <td>1</td>\n      <td>Grandmaster</td>\n      <td>Lava Hot</td>\n      <td>o</td>\n      <td>H</td>\n      <td>ex</td>\n      <td>2</td>\n      <td>1</td>\n      <td>0</td>\n    </tr>\n    <tr>\n      <th>299900</th>\n      <td>299900</td>\n      <td>0.0</td>\n      <td>0</td>\n      <td>0</td>\n      <td>T</td>\n      <td>None</td>\n      <td>Green</td>\n      <td>Triangle</td>\n      <td>Lion</td>\n      <td>Canada</td>\n      <td>...</td>\n      <td>d933993b5</td>\n      <td>2</td>\n      <td>Novice</td>\n      <td>Warm</td>\n      <td>l</td>\n      <td>V</td>\n      <td>kC</td>\n      <td>7</td>\n      <td>10</td>\n      <td>1</td>\n    </tr>\n    <tr>\n      <th>299950</th>\n      <td>299950</td>\n      <td>0.0</td>\n      <td>0</td>\n      <td>1</td>\n      <td>T</td>\n      <td>None</td>\n      <td>Green</td>\n      <td>Triangle</td>\n      <td>Hamster</td>\n      <td>Costa Rica</td>\n      <td>...</td>\n      <td>84627bdcf</td>\n      <td>1</td>\n      <td>Grandmaster</td>\n      <td>Boiling Hot</td>\n      <td>e</td>\n      <td>Y</td>\n      <td>Xi</td>\n      <td>4</td>\n      <td>8</td>\n      <td>1</td>\n    </tr>\n  </tbody>\n</table>\n<p>5990 rows × 25 columns</p>\n</div>"
     },
     "metadata": {},
     "execution_count": 57
    }
   ],
   "source": [
    "# viewing only the rows where bin_4 = NaN \n",
    "df[df[\"bin_4\"].isna()]"
   ]
  },
  {
   "cell_type": "code",
   "execution_count": 58,
   "metadata": {},
   "outputs": [
    {
     "output_type": "execute_result",
     "data": {
      "text/plain": "(300000, 25)"
     },
     "metadata": {},
     "execution_count": 58
    }
   ],
   "source": [
    "# priginal df shape\n",
    "df.shape"
   ]
  },
  {
   "cell_type": "code",
   "execution_count": 59,
   "metadata": {},
   "outputs": [
    {
     "output_type": "execute_result",
     "data": {
      "text/plain": "(293984, 25)"
     },
     "metadata": {},
     "execution_count": 59
    }
   ],
   "source": [
    "# df shape after dropping rows with any missing values \n",
    "df.dropna(how=\"any\").shape"
   ]
  },
  {
   "cell_type": "code",
   "execution_count": 60,
   "metadata": {},
   "outputs": [
    {
     "output_type": "execute_result",
     "data": {
      "text/plain": "(300000, 25)"
     },
     "metadata": {},
     "execution_count": 60
    }
   ],
   "source": [
    "# df shape  after dropping rows with all missing values\n",
    "df.dropna(how=\"all\").shape"
   ]
  },
  {
   "cell_type": "code",
   "execution_count": 68,
   "metadata": {},
   "outputs": [
    {
     "output_type": "execute_result",
     "data": {
      "text/plain": "(299984, 25)"
     },
     "metadata": {},
     "execution_count": 68
    }
   ],
   "source": [
    "# dropping any row if it has NaN in ord_4 or ord_5\n",
    "df.dropna(subset=[\"ord_4\", \"ord_5\"], how=\"any\").shape"
   ]
  },
  {
   "cell_type": "code",
   "execution_count": 61,
   "metadata": {},
   "outputs": [
    {
     "output_type": "execute_result",
     "data": {
      "text/plain": "0      None\n20     None\n40     None\n60     None\n80     None\n100    None\n120    None\n140    None\n160    None\n180    None\n200    None\n220    None\n240    None\n260    None\n280    None\n300    None\nName: ord_4, dtype: object"
     },
     "metadata": {},
     "execution_count": 61
    }
   ],
   "source": [
    "# dtype of ord_4 is object so NaN is None`\n",
    "df[df[\"ord_4\"].isna()][\"ord_4\"]"
   ]
  },
  {
   "cell_type": "code",
   "execution_count": 66,
   "metadata": {},
   "outputs": [
    {
     "output_type": "execute_result",
     "data": {
      "text/plain": "2     NaN\n102   NaN\n202   NaN\n302   NaN\n402   NaN\n502   NaN\n602   NaN\n702   NaN\n802   NaN\n902   NaN\nName: bin_0, dtype: float64"
     },
     "metadata": {},
     "execution_count": 66
    }
   ],
   "source": [
    "df[df[\"bin_0\"].isna()][\"bin_0\"]"
   ]
  },
  {
   "cell_type": "code",
   "execution_count": 67,
   "metadata": {},
   "outputs": [
    {
     "output_type": "execute_result",
     "data": {
      "text/plain": "array([ 0.,  0., nan, ...,  0.,  0.,  0.])"
     },
     "metadata": {},
     "execution_count": 67
    }
   ],
   "source": [
    "# checking values in bin_0\n",
    "df[\"bin_0\"].values"
   ]
  },
  {
   "cell_type": "code",
   "execution_count": 62,
   "metadata": {},
   "outputs": [
    {
     "output_type": "execute_result",
     "data": {
      "text/plain": "L    19065\nG    18895\nS    18873\nA    18258\nR    16927\nQ    15925\nK    14698\nI    14643\nZ    14232\nT    14220\nV    14143\nJ    12877\nP    12838\nU    12774\nH    12743\nF    11716\nE    11302\nW     9197\nY     8488\nX     6292\nB     6169\nO     5836\nD     3973\nC     3575\nN     2166\nM      159\nName: ord_4, dtype: int64"
     },
     "metadata": {},
     "execution_count": 62
    }
   ],
   "source": [
    "# NaN values are ignored\n",
    "df[\"ord_4\"].value_counts()"
   ]
  },
  {
   "cell_type": "code",
   "execution_count": 65,
   "metadata": {},
   "outputs": [
    {
     "output_type": "execute_result",
     "data": {
      "text/plain": "L        19065\nG        18895\nS        18873\nA        18258\nR        16927\nQ        15925\nK        14698\nI        14643\nZ        14232\nT        14220\nV        14143\nJ        12877\nP        12838\nU        12774\nH        12743\nF        11716\nE        11302\nW         9197\nY         8488\nX         6292\nB         6169\nO         5836\nD         3973\nC         3575\nN         2166\nM          159\nOther       16\nName: ord_4, dtype: int64"
     },
     "metadata": {},
     "execution_count": 65
    }
   ],
   "source": [
    "# filling the NaN values\n",
    "df[\"ord_4\"].fillna(\"Other\").value_counts()"
   ]
  },
  {
   "cell_type": "code",
   "execution_count": null,
   "metadata": {},
   "outputs": [],
   "source": [
    "df.replace()"
   ]
  }
 ],
 "metadata": {
  "language_info": {
   "codemirror_mode": {
    "name": "ipython",
    "version": 3
   },
   "file_extension": ".py",
   "mimetype": "text/x-python",
   "name": "python",
   "nbconvert_exporter": "python",
   "pygments_lexer": "ipython3",
   "version": "3.8.2-final"
  },
  "orig_nbformat": 2,
  "kernelspec": {
   "name": "python38264bitconda17b1cc6b0e6f4854b7f0da0cf005d246",
   "display_name": "Python 3.8.2 64-bit (conda)"
  }
 },
 "nbformat": 4,
 "nbformat_minor": 2
}