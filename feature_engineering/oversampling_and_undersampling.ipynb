{
 "cells": [
  {
   "cell_type": "code",
   "execution_count": 1,
   "metadata": {},
   "outputs": [],
   "source": [
    "from sklearn.datasets import make_classification\n",
    "from imblearn.over_sampling import RandomOverSampler\n",
    "from imblearn.under_sampling import RandomUnderSampler\n",
    "from collections import Counter"
   ]
  },
  {
   "cell_type": "code",
   "execution_count": 10,
   "metadata": {},
   "outputs": [
    {
     "name": "stdout",
     "output_type": "stream",
     "text": [
      "Counter({0: 9844, 1: 156})\n"
     ]
    }
   ],
   "source": [
    "# defining the dataset\n",
    "X, y = make_classification(n_samples= 10000, weights=[.99])\n",
    "\n",
    "# class distribution\n",
    "print(Counter(y))"
   ]
  },
  {
   "cell_type": "markdown",
   "metadata": {},
   "source": [
    "# Random Oversampling"
   ]
  },
  {
   "cell_type": "code",
   "execution_count": 11,
   "metadata": {},
   "outputs": [
    {
     "name": "stdout",
     "output_type": "stream",
     "text": [
      "Counter({0: 9844, 1: 9844})\n"
     ]
    }
   ],
   "source": [
    "# instantiating the random oversampler \n",
    "ros = RandomOverSampler()\n",
    "# resampling X, y\n",
    "X_ros, y_ros = ros.fit_resample(X, y)\n",
    "\n",
    "# new class distribution \n",
    "print(Counter(y_ros))"
   ]
  },
  {
   "cell_type": "markdown",
   "metadata": {},
   "source": [
    "# Random Undersampling"
   ]
  },
  {
   "cell_type": "code",
   "execution_count": 12,
   "metadata": {},
   "outputs": [
    {
     "name": "stdout",
     "output_type": "stream",
     "text": [
      "Counter({0: 156, 1: 156})\n"
     ]
    }
   ],
   "source": [
    "# instantiating the random undersampler\n",
    "rus = RandomUnderSampler() \n",
    "# resampling X, y\n",
    "X_rus, y_rus = rus.fit_resample(X, y)\n",
    "\n",
    "# new class distribution\n",
    "print(Counter(y_rus))"
   ]
  },
  {
   "cell_type": "markdown",
   "metadata": {},
   "source": [
    "# Combined Random Sampling"
   ]
  },
  {
   "cell_type": "code",
   "execution_count": 17,
   "metadata": {},
   "outputs": [
    {
     "name": "stdout",
     "output_type": "stream",
     "text": [
      "Oversampled: Counter({0: 9844, 1: 4922})\n",
      "Combined Random Sampling: Counter({0: 6152, 1: 4922})\n"
     ]
    }
   ],
   "source": [
    "# instantiating over and under sampler\n",
    "over = RandomOverSampler(sampling_strategy=0.5)\n",
    "under = RandomUnderSampler(sampling_strategy=0.8)\n",
    "\n",
    "# first performing oversampling to minority class\n",
    "X_over, y_over = over.fit_resample(X, y)\n",
    "print(f\"Oversampled: {Counter(y_over)}\")\n",
    "\n",
    "# now to comine under sampling \n",
    "X_combined_sampling, y_combined_sampling = under.fit_resample(X_over, y_over)\n",
    "print(f\"Combined Random Sampling: {Counter(y_combined_sampling)}\")"
   ]
  }
 ],
 "metadata": {
  "kernelspec": {
   "display_name": "Python 3.8.2 64-bit (conda)",
   "language": "python",
   "name": "python38264bitconda17b1cc6b0e6f4854b7f0da0cf005d246"
  },
  "language_info": {
   "codemirror_mode": {
    "name": "ipython",
    "version": 3
   },
   "file_extension": ".py",
   "mimetype": "text/x-python",
   "name": "python",
   "nbconvert_exporter": "python",
   "pygments_lexer": "ipython3",
   "version": "3.8.3"
  }
 },
 "nbformat": 4,
 "nbformat_minor": 4
}
