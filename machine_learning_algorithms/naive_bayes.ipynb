{
 "cells": [
  {
   "cell_type": "code",
   "execution_count": 1,
   "metadata": {},
   "outputs": [],
   "source": [
    "import numpy as np \n",
    "import pandas as pd\n",
    "\n",
    "from sklearn.datasets import load_iris\n",
    "from sklearn.naive_bayes import GaussianNB\n",
    "from sklearn.metrics import accuracy_score\n",
    "from sklearn.model_selection import train_test_split"
   ]
  },
  {
   "cell_type": "code",
   "execution_count": 2,
   "metadata": {},
   "outputs": [
    {
     "data": {
      "text/plain": [
       "((120, 4), (120,), (30, 4), (30,))"
      ]
     },
     "execution_count": 2,
     "metadata": {},
     "output_type": "execute_result"
    }
   ],
   "source": [
    "# loading the data\n",
    "iris = load_iris()\n",
    "X, y = iris.data, iris.target\n",
    "\n",
    "# spliting data to train and test\n",
    "X_train, X_test, y_train, y_test = train_test_split(X, y, test_size= 0.2, random_state=1810)\n",
    "X_train.shape, y_train.shape, X_test.shape, y_test.shape"
   ]
  },
  {
   "cell_type": "code",
   "execution_count": 3,
   "metadata": {},
   "outputs": [
    {
     "name": "stdout",
     "output_type": "stream",
     "text": [
      "sklearn accuracy:1.0\n",
      "predictions: [0 0 2 2 0 1 0 0 1 1 2 1 2 0 1 2 0 0 0 2 1 2 0 0 0 0 1 1 0 2]\n"
     ]
    }
   ],
   "source": [
    "# scikit learn implementation \n",
    "nb = GaussianNB()\n",
    "nb.fit(X_train, y_train)\n",
    "sklearn_preds = nb.predict(X_test)\n",
    "\n",
    "print(f\"sklearn accuracy:{accuracy_score(y_test, sklearn_preds)}\")\n",
    "print(f\"predictions: {sklearn_preds}\")"
   ]
  },
  {
   "cell_type": "code",
   "execution_count": 14,
   "metadata": {},
   "outputs": [],
   "source": [
    "def get_params(X_train, y_train): \n",
    "    \"\"\"\n",
    "    Function to get the unique classes, number of classes and number of features in training data\n",
    "    \"\"\"\n",
    "    num_examples, num_features = X_train.shape\n",
    "    num_classes = len(np.unique(y_train))\n",
    "    return num_examples, num_features, num_classes"
   ]
  },
  {
   "cell_type": "code",
   "execution_count": 16,
   "metadata": {},
   "outputs": [
    {
     "name": "stdout",
     "output_type": "stream",
     "text": [
      "120 4 3\n"
     ]
    }
   ],
   "source": [
    "# testing utility function\n",
    "num_examples, num_features, num_classes = get_params(X_train, y_train)\n",
    "print(num_examples, num_features, num_classes)"
   ]
  },
  {
   "cell_type": "code",
   "execution_count": 6,
   "metadata": {},
   "outputs": [],
   "source": [
    "def get_stats_by_class(X_train, y_train, num_examples=num_examples, num_classes=num_classes): \n",
    "    \"\"\"\n",
    "    Get stats of dataset by the class\n",
    "    \"\"\"\n",
    "    # dictionaries to store stats\n",
    "    class_mean = {}\n",
    "    class_var = {} \n",
    "    class_prior = {} \n",
    "    \n",
    "    # loop through each class and get mean, variance and prior by class\n",
    "    for cls in range(num_classes): \n",
    "        X_cls = X_train[y_train == cls]\n",
    "        class_mean[str(cls)] = np.mean(X_cls, axis=0)\n",
    "        class_var[str(cls)] = np.var(X_cls, axis=0)\n",
    "        class_prior[str(cls)] = X_cls.shape[0] / num_examples\n",
    "    return class_mean, class_var, class_prior"
   ]
  },
  {
   "cell_type": "code",
   "execution_count": 20,
   "metadata": {},
   "outputs": [
    {
     "name": "stdout",
     "output_type": "stream",
     "text": [
      "mean: {'0': array([5.06111111, 3.48611111, 1.44722222, 0.25833333]), '1': array([5.90952381, 2.80714286, 4.25238095, 1.33809524]), '2': array([6.61904762, 2.97857143, 5.58571429, 2.02142857])}\n",
      "\n",
      "variance: {'0': array([0.12570988, 0.15564043, 0.0286034 , 0.01243056]), '1': array([0.26324263, 0.08542517, 0.24582766, 0.04045351]), '2': array([0.43678005, 0.10930272, 0.31884354, 0.0802551 ])}\n",
      "\n",
      "priors: {'0': 0.3, '1': 0.35, '2': 0.35}\n"
     ]
    }
   ],
   "source": [
    "# output of function \n",
    "cm, var, cp = get_stats_by_class(X_train, y_train)\n",
    "print(f\"mean: {cm}\\n\\nvariance: {var}\\n\\npriors: {cp}\")"
   ]
  },
  {
   "cell_type": "code",
   "execution_count": 8,
   "metadata": {},
   "outputs": [],
   "source": [
    "def gaussian_density_function(X, mean, std, num_examples=num_examples, num_features=num_features, eps=1e-6): \n",
    "    num_exambles, num_features = X_train.shape\n",
    "    const = -num_features/2 * np.log(2*np.pi) - 0.5 * np.sum(np.log(std + eps))\n",
    "    probs = 0.5 * np.sum(np.power(X - mean, 2)/(std + eps), 1)\n",
    "    return const - probs"
   ]
  },
  {
   "cell_type": "code",
   "execution_count": 9,
   "metadata": {},
   "outputs": [
    {
     "data": {
      "text/plain": [
       "array([-4.34046349e+02, -1.59180054e+02, -1.61095055e+02,  9.25593725e-01,\n",
       "       -2.40503860e+02, -4.94829021e+02, -8.44007497e+01, -1.24647713e+02,\n",
       "       -2.85653665e+00, -5.72257925e+02, -3.88046018e+02, -2.24563508e+02,\n",
       "        2.14664687e+00, -6.59682718e+02, -1.42720100e+02, -4.38322421e+02,\n",
       "       -2.27259034e+02, -2.43243607e+02, -2.60192759e+02, -6.69113243e-01,\n",
       "       -2.12744190e+02, -1.96296373e+00,  5.27718947e-01, -8.37591818e+01,\n",
       "       -3.74910393e+02, -4.12550151e+02, -5.26784003e+02,  2.02972576e+00,\n",
       "       -7.15335962e+02, -4.20276820e+02,  1.96012133e+00, -3.00593481e+02,\n",
       "       -2.47461333e+02, -1.60575712e+02, -2.89201209e+02, -2.92885637e+02,\n",
       "       -3.13408398e+02, -3.58425796e+02, -3.91682377e+00,  1.39469746e+00,\n",
       "       -5.96494272e+02, -2.28962605e+02, -3.30798243e+02, -6.31249585e+02,\n",
       "       -2.13727911e+02, -3.30118570e+02, -1.67525014e+02, -1.76565131e+02,\n",
       "        9.43246044e-01,  1.79792264e+00, -5.80893842e+02, -4.89795508e+02,\n",
       "       -1.52006930e+02, -2.23865257e+02, -3.95841849e+00, -2.96494860e+02,\n",
       "       -9.76659579e+01, -3.45123893e+02, -2.61299515e+02,  7.51925529e-01,\n",
       "       -1.57383774e+02, -1.13127846e+02,  6.89240784e-02, -4.32253752e+02,\n",
       "       -2.25822704e+00, -1.95763452e+02, -2.54997829e-01, -1.66303411e+02,\n",
       "       -2.94088881e+02, -1.47028139e+02, -4.89549541e+02, -4.61090964e+02,\n",
       "        1.22387847e+00, -8.22913900e-02,  9.67128415e-01, -2.30042263e+02,\n",
       "       -2.90035079e+00, -2.36569499e+02,  1.42223431e+00,  9.35599166e-01,\n",
       "       -3.74718213e+02, -2.07417873e+02, -4.19130888e+02,  7.79051525e-01,\n",
       "        1.82103882e+00, -2.77364308e+02,  9.64732218e-01, -7.15058948e+01,\n",
       "       -2.82064236e+02, -1.89898997e+02,  9.79605922e-01, -6.24660543e+02,\n",
       "        1.70258877e+00, -3.17104964e-01, -4.23008651e+02, -1.32107552e+00,\n",
       "       -3.09809542e+02, -4.01988565e+02, -2.55855351e+02, -2.25652042e+02,\n",
       "        1.00821726e+00, -2.24154135e+02,  2.07961315e+00, -3.08858104e+02,\n",
       "       -4.95246865e+02, -4.74107852e+02, -5.24258175e+02, -5.26011925e+02,\n",
       "       -3.43520576e+02, -4.59462733e+02, -1.68243666e+02,  1.06990125e+00,\n",
       "        2.04670066e+00, -8.64641201e-01, -3.89431048e+02, -1.00629804e+02,\n",
       "        1.25321722e+00, -5.07813723e+02, -1.27546482e+02, -4.43687565e+02])"
      ]
     },
     "execution_count": 9,
     "metadata": {},
     "output_type": "execute_result"
    }
   ],
   "source": [
    "gaussian_density_function(X_train, cm[str(0)], var[str(0)])"
   ]
  },
  {
   "cell_type": "code",
   "execution_count": 21,
   "metadata": {},
   "outputs": [],
   "source": [
    "def class_probabilities(X, class_mean, class_var, class_prior, num_classes=num_classes):\n",
    "    \"\"\"\n",
    "    calculate the probability of each class given the data\n",
    "    \"\"\"\n",
    "    num_examples = X.shape[0]\n",
    "    probs = np.zeros((num_examples, num_classes))\n",
    "\n",
    "    for cls in range(num_classes): \n",
    "        prior = class_prior[str(cls)]\n",
    "        probs_cls = gaussian_density_function(X, class_mean[str(cls)], class_var[str(cls)])\n",
    "        probs[:, cls] = probs_cls + np.log(prior)\n",
    "    return probs"
   ]
  },
  {
   "cell_type": "code",
   "execution_count": 23,
   "metadata": {},
   "outputs": [
    {
     "data": {
      "text/plain": [
       "array([[-4.35250322e+02, -1.25872865e+01, -1.46137594e+00],\n",
       "       [-1.60384027e+02, -1.54102752e+00, -1.10386267e+01],\n",
       "       [-1.62299027e+02, -7.39539583e-01, -9.01170028e+00],\n",
       "       [-2.78379079e-01, -2.93581455e+01, -4.64418418e+01],\n",
       "       [-2.41707833e+02, -1.09710712e+00, -5.34454423e+00],\n",
       "       [-4.96032994e+02, -1.98425985e+01, -2.33994991e+00],\n",
       "       [-8.56047225e+01, -6.85707012e+00, -2.11716263e+01],\n",
       "       [-1.25851686e+02, -1.63885808e+00, -1.20146628e+01],\n",
       "       [-4.06050945e+00, -2.59461101e+01, -4.31155288e+01],\n",
       "       [-5.73461897e+02, -2.52086388e+01, -3.60971734e+00],\n",
       "       [-3.89249991e+02, -7.28466926e+00, -1.81117068e+00],\n",
       "       [-2.25767481e+02, -1.37119894e+00, -6.10506065e+00],\n",
       "       [ 9.42674063e-01, -3.44447450e+01, -5.11931770e+01],\n",
       "       [-6.60886691e+02, -3.37482321e+01, -7.94169253e+00],\n",
       "       [-1.43924072e+02, -1.10107170e+00, -1.11545686e+01],\n",
       "       [-4.39526394e+02, -9.77034435e+00, -2.80446271e+00],\n",
       "       [-2.28463007e+02, -1.03754819e+00, -5.38112398e+00],\n",
       "       [-2.44447580e+02, -1.75514130e+00, -4.75145508e+00],\n",
       "       [-2.61396731e+02, -2.68656207e+00, -4.92914337e+00],\n",
       "       [-1.87308605e+00, -3.21334843e+01, -4.70131323e+01],\n",
       "       [-2.13948163e+02, -1.73776507e+00, -5.98491652e+00],\n",
       "       [-3.16693653e+00, -4.38330178e+01, -5.77439504e+01],\n",
       "       [-6.76253857e-01, -3.23323954e+01, -4.82315815e+01],\n",
       "       [-8.49631546e+01, -6.68643832e+00, -2.09786822e+01],\n",
       "       [-3.76114366e+02, -8.64415987e+00, -1.62629916e+00],\n",
       "       [-4.13754124e+02, -1.57853125e+01, -2.38304176e+00],\n",
       "       [-5.27987976e+02, -2.40794213e+01, -3.29927879e+00],\n",
       "       [ 8.25752959e-01, -3.83305230e+01, -5.42824163e+01],\n",
       "       [-7.16539935e+02, -3.25565092e+01, -6.55720194e+00],\n",
       "       [-4.21480793e+02, -9.62295425e+00, -2.93874441e+00],\n",
       "       [ 7.56148528e-01, -3.60729344e+01, -5.29885118e+01],\n",
       "       [-3.01797453e+02, -2.59802026e+00, -3.69803651e+00],\n",
       "       [-2.48665306e+02, -4.75422951e+00, -8.29451237e+00],\n",
       "       [-1.61779685e+02, -2.49423157e+00, -1.20972758e+01],\n",
       "       [-2.90405181e+02, -4.15675659e+00, -6.81523411e+00],\n",
       "       [-2.94089610e+02, -4.67328163e+00, -3.46152340e+00],\n",
       "       [-3.14612371e+02, -4.68299884e+00, -2.56305463e+00],\n",
       "       [-3.59629768e+02, -4.58404262e+00, -4.74200451e+00],\n",
       "       [-5.12079657e+00, -4.48189883e+01, -6.20849464e+01],\n",
       "       [ 1.90724656e-01, -3.78551024e+01, -5.26804051e+01],\n",
       "       [-5.97698245e+02, -3.09941933e+01, -5.36631793e+00],\n",
       "       [-2.30166577e+02, -1.10258949e+00, -5.61187513e+00],\n",
       "       [-3.32002215e+02, -6.97310625e+00, -3.44665761e+00],\n",
       "       [-6.32453558e+02, -2.42121161e+01, -4.80519884e+00],\n",
       "       [-2.14931884e+02, -2.30334331e+00, -6.05735170e+00],\n",
       "       [-3.31322543e+02, -4.83899152e+00, -2.64119586e+00],\n",
       "       [-1.68728986e+02, -6.71685040e-01, -9.18854751e+00],\n",
       "       [-1.77769103e+02, -6.80206394e-01, -8.62063321e+00],\n",
       "       [-2.60726760e-01, -3.26296195e+01, -4.99551758e+01],\n",
       "       [ 5.93949831e-01, -3.59519096e+01, -5.28808644e+01],\n",
       "       [-5.82097814e+02, -2.86138757e+01, -7.37934942e+00],\n",
       "       [-4.90999481e+02, -2.05005946e+01, -3.19394790e+00],\n",
       "       [-1.53210903e+02, -1.16201860e+00, -1.09421595e+01],\n",
       "       [-2.25069229e+02, -1.68233567e+00, -6.61746733e+00],\n",
       "       [-5.16239130e+00, -3.68499028e+01, -5.58830378e+01],\n",
       "       [-2.97698832e+02, -3.93033691e+00, -2.99225858e+00],\n",
       "       [-9.88699307e+01, -3.42153003e+00, -1.63160446e+01],\n",
       "       [-3.46327866e+02, -7.71015693e+00, -3.92722797e+00],\n",
       "       [-2.62503488e+02, -3.48950178e+00, -4.29762386e+00],\n",
       "       [-4.52047275e-01, -3.56991298e+01, -5.29521224e+01],\n",
       "       [-1.58587747e+02, -1.84614573e+00, -1.08939725e+01],\n",
       "       [-1.14331819e+02, -3.84501458e+00, -1.64127655e+01],\n",
       "       [-1.13504873e+00, -3.66120197e+01, -5.21387830e+01],\n",
       "       [-4.33457725e+02, -1.55511740e+01, -2.26250124e+00],\n",
       "       [-3.46219984e+00, -4.49831302e+01, -6.14502927e+01],\n",
       "       [-1.96967425e+02, -1.07027044e+00, -6.67084176e+00],\n",
       "       [-1.45897063e+00, -3.94919933e+01, -5.67048131e+01],\n",
       "       [-1.67507384e+02, -9.87669384e-01, -9.26664153e+00],\n",
       "       [-2.95292854e+02, -4.00301957e+00, -3.08616090e+00],\n",
       "       [-1.48232112e+02, -2.07284187e+00, -1.24561262e+01],\n",
       "       [-4.90753513e+02, -1.54559771e+01, -1.66080421e+00],\n",
       "       [-4.62294937e+02, -1.45684456e+01, -1.91086634e+00],\n",
       "       [ 1.99056653e-02, -3.52333875e+01, -5.29001257e+01],\n",
       "       [-1.28626419e+00, -4.56162294e+01, -5.86078494e+01],\n",
       "       [-2.36844389e-01, -3.36808966e+01, -5.08076684e+01],\n",
       "       [-2.31246236e+02, -2.33179498e+00, -5.19341022e+00],\n",
       "       [-4.10432360e+00, -4.17414236e+01, -5.41375575e+01],\n",
       "       [-2.37773472e+02, -3.56810348e+00, -5.57790323e+00],\n",
       "       [ 2.18261506e-01, -3.52361243e+01, -5.15526437e+01],\n",
       "       [-2.68373639e-01, -3.45227213e+01, -5.13924194e+01],\n",
       "       [-3.75922186e+02, -7.18158404e+00, -2.00159514e+00],\n",
       "       [-2.08621846e+02, -7.49168352e-01, -7.57558052e+00],\n",
       "       [-4.20334860e+02, -1.59443749e+01, -3.54843994e+00],\n",
       "       [-4.24921280e-01, -3.79565079e+01, -5.54284651e+01],\n",
       "       [ 6.17066013e-01, -3.62647212e+01, -5.17389164e+01],\n",
       "       [-2.78568281e+02, -2.54163124e+00, -4.96724674e+00],\n",
       "       [-2.39240586e-01, -3.79426409e+01, -5.52837022e+01],\n",
       "       [-7.27098676e+01, -6.21051133e+00, -2.08350938e+01],\n",
       "       [-2.83268209e+02, -4.06523559e+00, -3.96085065e+00],\n",
       "       [-1.91102969e+02, -7.56117568e-01, -7.43582539e+00],\n",
       "       [-2.24366882e-01, -3.73888982e+01, -5.35208829e+01],\n",
       "       [-6.25864516e+02, -2.45527927e+01, -4.12720330e+00],\n",
       "       [ 4.98615966e-01, -3.73116244e+01, -5.25905948e+01],\n",
       "       [-1.52107777e+00, -4.47536369e+01, -5.77732052e+01],\n",
       "       [-4.24212623e+02, -1.51896222e+01, -2.09818165e+00],\n",
       "       [-2.52504832e+00, -2.51210849e+01, -4.25842329e+01],\n",
       "       [-3.11013515e+02, -4.36967113e+00, -2.88613797e+00],\n",
       "       [-4.03192538e+02, -7.19368017e+00, -1.82235811e+00],\n",
       "       [-2.57059324e+02, -2.94316505e+00, -4.37084443e+00],\n",
       "       [-2.26856015e+02, -1.74256538e+00, -6.16663300e+00],\n",
       "       [-1.95755546e-01, -2.93369760e+01, -4.64756613e+01],\n",
       "       [-2.25358108e+02, -1.23527464e+00, -7.25998803e+00],\n",
       "       [ 8.75640350e-01, -3.71344206e+01, -5.34003968e+01],\n",
       "       [-3.10062077e+02, -2.91466812e+00, -3.64190919e+00],\n",
       "       [-4.96450838e+02, -1.89876833e+01, -2.19040248e+00],\n",
       "       [-4.75311825e+02, -1.34382470e+01, -2.55706325e+00],\n",
       "       [-5.25462148e+02, -1.98895226e+01, -2.27194039e+00],\n",
       "       [-5.27215898e+02, -1.54103777e+01, -3.03640716e+00],\n",
       "       [-3.44724549e+02, -5.97648081e+00, -2.95654863e+00],\n",
       "       [-4.60666706e+02, -1.38555192e+01, -1.77158701e+00],\n",
       "       [-1.69447639e+02, -1.06519885e+00, -9.55570235e+00],\n",
       "       [-1.34071551e-01, -4.16318901e+01, -5.69963618e+01],\n",
       "       [ 8.42727856e-01, -3.52419179e+01, -5.16720011e+01],\n",
       "       [-2.06861401e+00, -3.29454750e+01, -4.75642289e+01],\n",
       "       [-3.90635021e+02, -7.20569439e+00, -1.70711891e+00],\n",
       "       [-1.01833777e+02, -8.47135166e+00, -2.20747394e+01],\n",
       "       [ 4.92444195e-02, -3.27185268e+01, -4.89505316e+01],\n",
       "       [-5.09017695e+02, -1.55882616e+01, -2.72246287e+00],\n",
       "       [-1.28750455e+02, -2.92850627e+00, -1.46266150e+01],\n",
       "       [-4.44891538e+02, -1.68548849e+01, -2.92280238e+00]])"
      ]
     },
     "execution_count": 23,
     "metadata": {},
     "output_type": "execute_result"
    }
   ],
   "source": [
    "probs = class_probabilities(X_train, cm, var, cp)\n",
    "probs"
   ]
  },
  {
   "cell_type": "code",
   "execution_count": 24,
   "metadata": {},
   "outputs": [],
   "source": [
    "def predict(X_test, X_train, y_train): \n",
    "    num_examples, num_features, num_classes = get_params(X_test, y_train)\n",
    "    class_mean, class_std, class_prior = get_stats_by_class(X_train, y_train)\n",
    "    probs = class_probabilities(X_test, class_mean, class_std, class_prior)\n",
    "    return np.argmax(probs, 1)"
   ]
  },
  {
   "cell_type": "code",
   "execution_count": 25,
   "metadata": {},
   "outputs": [],
   "source": [
    "my_preds = predict(X_test, X_train, y_train)"
   ]
  },
  {
   "cell_type": "code",
   "execution_count": 29,
   "metadata": {},
   "outputs": [
    {
     "name": "stdout",
     "output_type": "stream",
     "text": [
      "my predictions accuracy:1.0\n",
      "predictions: [0 0 2 2 0 1 0 0 1 1 2 1 2 0 1 2 0 0 0 2 1 2 0 0 0 0 1 1 0 2]\n"
     ]
    }
   ],
   "source": [
    "print(f\"my predictions accuracy:{accuracy_score(y_test, my_preds)}\")\n",
    "print(f\"predictions: {my_preds}\")"
   ]
  },
  {
   "cell_type": "code",
   "execution_count": 28,
   "metadata": {},
   "outputs": [
    {
     "data": {
      "text/plain": [
       "array([ True,  True,  True,  True,  True,  True,  True,  True,  True,\n",
       "        True,  True,  True,  True,  True,  True,  True,  True,  True,\n",
       "        True,  True,  True,  True,  True,  True,  True,  True,  True,\n",
       "        True,  True,  True])"
      ]
     },
     "execution_count": 28,
     "metadata": {},
     "output_type": "execute_result"
    }
   ],
   "source": [
    "sklearn_preds == my_preds"
   ]
  }
 ],
 "metadata": {
  "kernelspec": {
   "display_name": "Python 3.8.3 64-bit (conda)",
   "language": "python",
   "name": "python38364bitcondab8eeb421859c4b2b97a8c102771f8a36"
  },
  "language_info": {
   "codemirror_mode": {
    "name": "ipython",
    "version": 3
   },
   "file_extension": ".py",
   "mimetype": "text/x-python",
   "name": "python",
   "nbconvert_exporter": "python",
   "pygments_lexer": "ipython3",
   "version": "3.8.3"
  }
 },
 "nbformat": 4,
 "nbformat_minor": 4
}
